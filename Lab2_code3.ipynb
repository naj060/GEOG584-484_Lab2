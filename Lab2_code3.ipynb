{
 "cells": [
  {
   "cell_type": "code",
   "execution_count": null,
   "metadata": {
    "collapsed": true
   },
   "outputs": [],
   "source": [
    "import numpy as np\n",
    "from matplotlib import pyplot as plt\n",
    "\n",
    "file = open(\"/Users/hsemple/Desktop/equake.csv\", \"r\") #change this path to your earthquake file path\n",
    "lines = file.readlines()\n",
    "file.close()\n",
    "\n",
    "del lines[0]     # Remove the first line\n",
    "\n",
    "#initiate and create the variables\n",
    "xvar = []\n",
    "yvar = []\n",
    "sum = 0\n",
    "count = 0\n",
    "average = 0\n",
    "\n",
    "#for loop to get new value for the variables\n",
    "for line in lines:\n",
    "    #print line\n",
    "    fields = line.strip().split(',')\n",
    "    depth = float(fields[0])\n",
    "    yvar.append(depth)\n",
    "    \n",
    "    #print depth\n",
    "    sum = sum + depth\n",
    "    count = count + 1\n",
    "    xvar.append(count)\n",
    "    average = sum / count\n"
   ]
  }
 ],
 "metadata": {
  "kernelspec": {
   "display_name": "Python 3",
   "language": "python",
   "name": "python3"
  },
  "language_info": {
   "codemirror_mode": {
    "name": "ipython",
    "version": 3
   },
   "file_extension": ".py",
   "mimetype": "text/x-python",
   "name": "python",
   "nbconvert_exporter": "python",
   "pygments_lexer": "ipython3",
   "version": "3.6.0"
  }
 },
 "nbformat": 4,
 "nbformat_minor": 2
}
