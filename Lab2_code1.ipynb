{
 "cells": [
  {
   "cell_type": "code",
   "execution_count": null,
   "metadata": {
    "collapsed": true
   },
   "outputs": [],
   "source": [
    "file = open(\"/Users/hsemple/Desktop/equake.csv\", \"r\")\n",
    "lines = file.readlines()\n",
    "file.close()\n",
    "#print lines\n",
    "del lines[0]     # Remove the first line\n",
    "sum = 0  'initializing variable\n",
    "count = 0\n",
    "average = 0 \n",
    "\n",
    "for line in lines:\n",
    "    fields = line.strip().split(',')\n",
    "    depth = float(fields[0])\n",
    "    #print depth\n",
    "    sum = sum + depth.  #running total of depth\n",
    "    count = count + 1.      # running total of number of events\n",
    "    average = sum / count\n",
    "\n",
    "print \"Sum is:\", sum\n",
    "print \"Count is:\", count\n",
    "print \"Average is:\", round(average,3)\n"
   ]
  }
 ],
 "metadata": {
  "kernelspec": {
   "display_name": "Python 3",
   "language": "python",
   "name": "python3"
  },
  "language_info": {
   "codemirror_mode": {
    "name": "ipython",
    "version": 3
   },
   "file_extension": ".py",
   "mimetype": "text/x-python",
   "name": "python",
   "nbconvert_exporter": "python",
   "pygments_lexer": "ipython3",
   "version": "3.6.0"
  }
 },
 "nbformat": 4,
 "nbformat_minor": 2
}
